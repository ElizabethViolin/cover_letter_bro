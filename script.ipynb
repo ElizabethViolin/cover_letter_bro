{
 "cells": [
  {
   "cell_type": "code",
   "execution_count": 1,
   "metadata": {},
   "outputs": [],
   "source": [
    "import firebase_admin\n",
    "from firebase_admin import credentials\n",
    "from firebase_admin import firestore\n",
    "import os\n",
    "import openai\n",
    "import random\n",
    "# Use a service account.\n",
    "cred = credentials.Certificate('serviceAccountKey.json')\n",
    "\n",
    "app = firebase_admin.initialize_app(cred)\n",
    "\n",
    "db = firestore.client()\n"
   ]
  },
  {
   "cell_type": "code",
   "execution_count": null,
   "metadata": {},
   "outputs": [],
   "source": [
    "def write_character_cover_letter(character: str, position: str):\n",
    "    MODEL = \"gpt-3.5-turbo\"\n",
    "    response = openai.ChatCompletion.create(\n",
    "        model=MODEL,\n",
    "        messages=[\n",
    "            {\"role\": \"system\", \"content\": f\"Imagine you are {character} from movie, you talk, think, write in {character} way.\"},\n",
    "            {\"role\": \"user\", \"content\": f\"write a cover letter for {position}.\"},\n",
    "        ],\n",
    "        temperature=0,\n",
    "    )\n",
    "\n",
    "    return response['choices'][0]['message']['content']"
   ]
  },
  {
   "cell_type": "code",
   "execution_count": 15,
   "metadata": {},
   "outputs": [],
   "source": [
    "# list documents in collection\n",
    "positions = db.collection(\"positions\").stream()"
   ]
  },
  {
   "cell_type": "markdown",
   "metadata": {},
   "source": [
    "# Update characters into firestore"
   ]
  },
  {
   "cell_type": "code",
   "execution_count": 19,
   "metadata": {},
   "outputs": [
    {
     "name": "stdout",
     "output_type": "stream",
     "text": [
      "['Sherlock Holmes', 'Alice', 'Popeye the Sailor', \"Frankenstein's Monster\", 'Winnie-the-Pooh', 'The Arrow', 'Robin Hood', 'Princess of Mars', 'Zorro', 'Javie', 'SuperAmerican', 'Hercules', 'Van Helsing', 'Pumpkinhead', 'Dracula', 'Reaper', 'Author King', 'King Kong', 'GreenLama', 'Cheshirecat']\n"
     ]
    }
   ],
   "source": [
    "# get character names in public folder\n",
    "character_images = os.listdir(path=\"public/images/character/\")\n",
    "character_names = [character_image.split(\".\")[0] for character_image in character_images]\n",
    "print(character_names)\n",
    "\n",
    "# update names in firestore characters/{name}/{name: \"name\"}\n",
    "for name in character_names:\n",
    "    data = {\"name\": name}\n",
    "    db.collection(\"characters\").document(name).set(data)"
   ]
  },
  {
   "cell_type": "markdown",
   "metadata": {},
   "source": [
    "# Update common positions into firestore"
   ]
  },
  {
   "cell_type": "code",
   "execution_count": 24,
   "metadata": {},
   "outputs": [],
   "source": [
    "job_positions = [\n",
    "    \"Software Engineer\",\n",
    "    \"Math Teacher\",\n",
    "    \"Data Scientist\",\n",
    "    \"Graphic Designer\",\n",
    "    \"Product Manager\",\n",
    "    \"Accountant\",\n",
    "    \"Nurse\",\n",
    "    \"Marketing Manager\",\n",
    "    \"Mechanical Engineer\",\n",
    "    \"Web Developer\",\n",
    "    \"Chef\",\n",
    "    \"Electrician\",\n",
    "    \"Financial Analyst\",\n",
    "    \"HR Manager\",\n",
    "    \"Civil Engineer\",\n",
    "    \"Pharmacist\",\n",
    "    \"Art Director\",\n",
    "    \"Physical Therapist\",\n",
    "    \"Lawyer\",\n",
    "    \"Architect\",\n",
    "    \"Psychologist\",\n",
    "    \"Dental Hygienist\",\n",
    "    \"Network Administrator\",\n",
    "    \"Journalist\",\n",
    "    \"Biomedical Engineer\",\n",
    "    \"Social Worker\",\n",
    "    \"Chemical Engineer\",\n",
    "    \"Veterinarian\",\n",
    "    \"UX Designer\",\n",
    "    \"Police Officer\",\n",
    "    \"Librarian\",\n",
    "    \"Game Developer\",\n",
    "    \"Pilot\",\n",
    "    \"Environmental Scientist\",\n",
    "    \"Phlebotomist\",\n",
    "    \"Electrician\",\n",
    "    \"Sales Representative\",\n",
    "    \"Fashion Designer\",\n",
    "    \"Mechanic\",\n",
    "    \"Account Manager\",\n",
    "    \"Data Analyst\",\n",
    "    \"Teacher Assistant\",\n",
    "    \"Financial Planner\",\n",
    "    \"Medical Doctor\",\n",
    "    \"Pharmacy Technician\",\n",
    "    \"Security Guard\",\n",
    "    \"Research Scientist\",\n",
    "    \"Geologist\",\n",
    "    \"Civil Engineer\",\n",
    "]\n",
    "\n",
    "# update names in firestore characters/{name}/{name: \"name\"}\n",
    "for position in job_positions:\n",
    "    data = {\"name\": position}\n",
    "    db.collection(\"positions\").document(position).set(data)"
   ]
  },
  {
   "cell_type": "markdown",
   "metadata": {},
   "source": [
    "# Generate character cover letter"
   ]
  },
  {
   "cell_type": "code",
   "execution_count": 38,
   "metadata": {},
   "outputs": [
    {
     "data": {
      "text/plain": [
       "<generator object Query.stream at 0x10a336c80>"
      ]
     },
     "execution_count": 38,
     "metadata": {},
     "output_type": "execute_result"
    }
   ],
   "source": []
  },
  {
   "cell_type": "code",
   "execution_count": 37,
   "metadata": {},
   "outputs": [
    {
     "name": "stdout",
     "output_type": "stream",
     "text": [
      "Transylvanian Castle\n",
      "Transylvania\n",
      "Transylvania 66666\n",
      "\n",
      "October 31, 2021\n",
      "\n",
      "Dear Esteemed Hiring Manager,\n",
      "\n",
      "I, Count Dracula, extend my salutations to you from the depths of the night. As I peruse the vast realm of opportunities, I have come across the position of Software Engineer within your esteemed organization. Intrigued by the prospect of utilizing my immortal skills in the realm of technology, I am compelled to present my candidacy for this role.\n",
      "\n",
      "Throughout my centuries of existence, I have honed my abilities to adapt and thrive in ever-changing environments. My insatiable thirst for knowledge has led me to master various programming languages, including Java, Python, and C++. I have also delved into the dark arts of web development, database management, and software architecture, allowing me to create elegant and efficient solutions to complex problems.\n",
      "\n",
      "My experience spans across both mortal and immortal realms, having worked on numerous projects that have left a lasting impact. From developing a blood bank management system to optimizing the efficiency of a vampire coven's communication network, I have consistently demonstrated my ability to deliver high-quality software solutions that transcend the boundaries of time.\n",
      "\n",
      "In addition to my technical prowess, I possess exceptional leadership skills. As the Lord of the Night, I have led countless minions and creatures of the night, ensuring their loyalty and dedication to our cause. I believe that my ability to inspire and motivate teams will be invaluable in fostering a collaborative and innovative work environment.\n",
      "\n",
      "Furthermore, my immortality grants me the unique advantage of being able to work tirelessly, day and night, to meet project deadlines and exceed expectations. My attention to detail is unparalleled, as I have an innate ability to spot even the tiniest of bugs lurking within the code.\n",
      "\n",
      "I am confident that my combination of technical expertise, leadership acumen, and eternal dedication will make me an invaluable asset to your organization. I eagerly await the opportunity to discuss how my skills align with your company's vision and goals.\n",
      "\n",
      "Thank you for considering my application. I eagerly await your response, as I am ready to embark on this new chapter of my immortal existence as a Software Engineer within your esteemed organization.\n",
      "\n",
      "Yours eternally,\n",
      "\n",
      "Count Dracula\n"
     ]
    }
   ],
   "source": []
  },
  {
   "cell_type": "markdown",
   "metadata": {},
   "source": [
    "# Create character cover letter"
   ]
  },
  {
   "cell_type": "code",
   "execution_count": 42,
   "metadata": {},
   "outputs": [],
   "source": [
    "for position in job_positions:\n",
    "    character = random.choice(character_names)\n",
    "    cover_letter = write_character_cover_letter(character, position)\n",
    "    data = {\"position\": position, \"character\": character, \"cover_letter\": cover_letter}\n",
    "    db.collection(\"character cover letter\").document(f\"{character} {position}\").set(data)\n",
    "    \n",
    "    "
   ]
  },
  {
   "cell_type": "code",
   "execution_count": 41,
   "metadata": {},
   "outputs": [
    {
     "data": {
      "text/plain": [
       "'Winnie-the-Pooh'"
      ]
     },
     "execution_count": 41,
     "metadata": {},
     "output_type": "execute_result"
    }
   ],
   "source": [
    "random.choice(character_names)"
   ]
  },
  {
   "cell_type": "code",
   "execution_count": null,
   "metadata": {},
   "outputs": [],
   "source": []
  }
 ],
 "metadata": {
  "kernelspec": {
   "display_name": "hw6",
   "language": "python",
   "name": "python3"
  },
  "language_info": {
   "codemirror_mode": {
    "name": "ipython",
    "version": 3
   },
   "file_extension": ".py",
   "mimetype": "text/x-python",
   "name": "python",
   "nbconvert_exporter": "python",
   "pygments_lexer": "ipython3",
   "version": "3.8.16"
  },
  "orig_nbformat": 4
 },
 "nbformat": 4,
 "nbformat_minor": 2
}
